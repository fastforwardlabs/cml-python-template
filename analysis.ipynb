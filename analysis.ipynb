{
 "cells": [
  {
   "cell_type": "code",
   "execution_count": null,
   "metadata": {},
   "outputs": [],
   "source": [
    "# Setup\n",
    "# -----\n",
    "\n",
    "import pandas as pd\n",
    "import seaborn as sns\n",
    "\n",
    "# Basic Data Manipulation\n",
    "# -----------------------\n",
    "#\n",
    "# Use the seaborn tips dataset to generate a best fitting linear regression line\n",
    "\n",
    "tips = sns.load_dataset(\"tips\")\n",
    "sns.set(font=\"DejaVu Sans\")\n",
    "sns.jointplot(\"total_bill\", \"tip\", tips, kind='reg').fig.suptitle(\"Tips Regression\", y=1.01)\n"
   ]
  },
  {
   "cell_type": "code",
   "execution_count": null,
   "metadata": {},
   "outputs": [],
   "source": [
    "# Examine the difference between smokers and non smokers\n",
    "sns.lmplot(\"total_bill\", \"tip\", tips, col=\"smoker\").fig.suptitle(\"Tips Regression - categorized by smoker\", y=1.05)\n"
   ]
  },
  {
   "cell_type": "code",
   "execution_count": null,
   "metadata": {},
   "outputs": [],
   "source": [
    "# Explore the dataframe\n",
    "tips.head()\n"
   ]
  },
  {
   "cell_type": "code",
   "execution_count": null,
   "metadata": {},
   "outputs": [],
   "source": [
    "# Using IPython's Rich Display System\n",
    "# -----------------------------------\n",
    "#\n",
    "# IPython has a [rich display system](bit.ly/HHPOac) for\n",
    "# interactive widgets.\n",
    "\n",
    "from IPython.display import IFrame\n",
    "from IPython.core.display import display\n",
    "\n",
    "# Define a google maps function.\n",
    "def gmaps(query):\n",
    "  url = \"https://maps.google.com/maps?q={0}&output=embed\".format(query)\n",
    "  display(IFrame(url, '700px', '450px'))\n",
    "\n",
    "gmaps(\"Golden Gate Bridge\")\n"
   ]
  },
  {
   "cell_type": "code",
   "execution_count": null,
   "metadata": {},
   "outputs": [],
   "source": [
    "#!jupyter nbconvert analysis.ipynb --to python"
   ]
  }
 ],
 "metadata": {
  "kernelspec": {
   "display_name": "Python 3",
   "language": "python",
   "name": "python3"
  },
  "language_info": {
   "codemirror_mode": {
    "name": "ipython",
    "version": 3
   },
   "file_extension": ".py",
   "mimetype": "text/x-python",
   "name": "python",
   "nbconvert_exporter": "python",
   "pygments_lexer": "ipython3",
   "version": "3.6.8"
  }
 },
 "nbformat": 4,
 "nbformat_minor": 2
}
