{
 "cells": [
  {
   "cell_type": "code",
   "execution_count": null,
   "metadata": {},
   "outputs": [],
   "source": [
    "# Fit a simple linear regression model to the\n",
    "# classic iris flower dataset to predict petal\n",
    "# width from petal length. Write the fitted\n",
    "# model to the file model.pkl\n",
    "\n",
    "from sklearn import datasets, linear_model\n",
    "from sklearn.metrics import mean_squared_error, r2_score\n",
    "import pickle\n",
    "import cdsw\n",
    "\n",
    "import matplotlib.pyplot as plt\n",
    "\n",
    "\n",
    "iris = datasets.load_iris()\n",
    "test_size = 20\n"
   ]
  },
  {
   "cell_type": "code",
   "execution_count": null,
   "metadata": {},
   "outputs": [],
   "source": [
    "# Train\n",
    "iris_x = iris.data[test_size:, 2].reshape(-1, 1) # petal length\n",
    "iris_y = iris.data[test_size:, 3].reshape(-1, 1) # petal width\n",
    "\n",
    "model = linear_model.LinearRegression()\n",
    "model.fit(iris_x, iris_y)\n"
   ]
  },
  {
   "cell_type": "code",
   "execution_count": null,
   "metadata": {},
   "outputs": [],
   "source": [
    "# Test and predict\n",
    "score_x = iris.data[:test_size, 2].reshape(-1, 1) # petal length\n",
    "score_y = iris.data[:test_size, 3].reshape(-1, 1) # petal width\n",
    "\n",
    "predictions = model.predict(score_x)\n"
   ]
  },
  {
   "cell_type": "code",
   "execution_count": null,
   "metadata": {},
   "outputs": [],
   "source": [
    "# Mean squared error\n",
    "mean_sq = mean_squared_error(score_y, predictions)\n",
    "cdsw.track_metric(\"mean_sq_err\", mean_sq)\n",
    "print(\"Mean squared error: %.2f\"% mean_sq)\n"
   ]
  },
  {
   "cell_type": "code",
   "execution_count": null,
   "metadata": {},
   "outputs": [],
   "source": [
    "# Explained variance\n",
    "r2 = r2_score(score_y, predictions)\n",
    "cdsw.track_metric(\"r2\", r2)\n",
    "print('Variance score: %.2f' % r2)\n"
   ]
  },
  {
   "cell_type": "code",
   "execution_count": null,
   "metadata": {},
   "outputs": [],
   "source": [
    "# Output\n",
    "filename = 'model.pkl'\n",
    "pickle.dump(model, open(filename, 'wb'))\n",
    "cdsw.track_file(filename)"
   ]
  }
 ],
 "metadata": {
  "kernelspec": {
   "display_name": "Python 3",
   "language": "python",
   "name": "python3"
  },
  "language_info": {
   "codemirror_mode": {
    "name": "ipython",
    "version": 3
   },
   "file_extension": ".py",
   "mimetype": "text/x-python",
   "name": "python",
   "nbconvert_exporter": "python",
   "pygments_lexer": "ipython3",
   "version": "3.6.8"
  }
 },
 "nbformat": 4,
 "nbformat_minor": 2
}
